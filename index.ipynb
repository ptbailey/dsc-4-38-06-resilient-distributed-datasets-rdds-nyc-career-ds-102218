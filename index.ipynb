{
 "cells": [
  {
   "cell_type": "markdown",
   "metadata": {},
   "source": [
    "# Resilient Distributed Datasets (RDDs)"
   ]
  },
  {
   "cell_type": "markdown",
   "metadata": {},
   "source": [
    "### Introduction\n",
    "\n",
    "Resilient Distributed Datasets (RDD) are fundamental data structures of Spark. An RDD is, essentially, the Spark representation of a set of data, spread across multiple machines, with APIs to let you act on it. An RDD could come from any datasource, e.g. text files, a database, a JSON file etc.\n",
    "\n",
    "> RDDs Spark specific structures that let users explicitly __persist__ intermediate results in memory, control their __partitioning__ to optimize data placement, and manipulate them using a rich set of operators.\n",
    "\n",
    "This is quite a handful. In this lesson, we will try to demistify RDDs with some hands on pratice. \n",
    "\n",
    "*__Note:__ Your are advised to visit all the included external links to see more examples of stated concepts.* "
   ]
  },
  {
   "cell_type": "markdown",
   "metadata": {},
   "source": [
    "## OBJECTIVES: \n",
    "* Describe RDDs as fundamental storage units in Spark computing environment\n",
    "* Create RDDs from Python collections\n",
    "* Set number of partitions for parallelizing RDDs\n",
    "* Review an RDD's dependancy graph at different stages of processing. "
   ]
  },
  {
   "cell_type": "markdown",
   "metadata": {},
   "source": [
    "## What Are RDDs ?\n",
    "\n",
    "Resilient Distributed Datasets (RDDs) are the core concept in Spark. RDDs can be thought of as __immutable distributed collections of data objects__. Each dataset in RDD is divided into logical partitions, which may be computed on different nodes of the cluster. In order to understand how spark works, we should know what RDD’s are and how they work.\n",
    "\n",
    "<img src=\"split.png\" width=500>\n",
    "\n",
    "__The Spark RDD is a fault tolerant, distributed collection of data that can be operated in parallel__. With the RDD split into partitions as shown above, spark runs one task for each partition. The Spark RDDs can contain any type of Python, Java or Scala objects, including user-defined classes. \n",
    "\n",
    ">RDDs are not actual data, but they are Objects, which contains information about data residing on the cluster. \n",
    "\n",
    "RDDs try to solve computational problems by enabling fault tolerant, distributed In-memory computations. RDDs have the following properties –\n",
    "\n",
    "__Immutability and partitioning__: RDDs composed of collection of records which are partitioned. Partition is basic unit of parallelism in a RDD, and each partition is one logical division of data which is immutable and created through some transformations on existing partitions.Immutability helps to achieve consistency in computations.Users can define their own criteria for partitioning based on keys on which they want to join multiple datasets if needed.\n",
    "\n",
    "__Coarse grained operations__: Coarse grained operations are operations which are applied to all elements in datasets. For example – a map, or filter or groupBy operation which will be performed on all elements in a partition of RDD.\n",
    "\n",
    "__Fault Tolerance__: Since RDDs are created over a set of transformations , it logs those transformations, rather than actual data.Graph of these transformations to produce one RDD is called as Lineage Graph.\n",
    "\n",
    "__Resiliance__: RDDs load the data for us and are resilient, which means they can be recomputed when needed.\n",
    "\n",
    "__Lazy evaluated__: The data inside RDD is not available or transformed until an action is executed that triggers the execution.\n",
    "\n",
    "### RDD Transformations vs Actions\n",
    "\n",
    "In Spark, we first create a __base RDD__ and then apply one or more transformations to that base RDD following our processing needs. Being immutable means, **once an RDD is created, it cannot be changed**. As a result, **each transformation on an RDD creates a new RDD**. Finally, we can apply one or more **actions** to the RDDs. Spark uses lazy evaluation, so transformations are not actually executed until an action occurs. \n",
    "\n",
    ">*RDDs perform two types of operations: Transformations, which creates a new dataset from the previous RDD and Actions, which return a value to the driver program after performing the computation on the dataset.*\n",
    "\n",
    "<img src=\"rdd1.png\" width=500>\n",
    "\n"
   ]
  },
  {
   "cell_type": "markdown",
   "metadata": {},
   "source": [
    "Let's see this behaviour through a simple example. In this example, we shall perform several actions and transformations on RDDs in order to obrain a better understanding of Spark processing. "
   ]
  },
  {
   "cell_type": "markdown",
   "metadata": {},
   "source": [
    "### Create a Python collection \n",
    "\n",
    "We need some data to start experimenting with RDDs. Let's create some sample data and see how RDDs handle it. \n",
    "\n",
    "- Create a Python list `data` of integers between 1 and 1000. \n",
    "- Use the `range()` function to create this list of a length = 1000 (1 - 1000 inclusive). \n",
    "- Sanity check : confirm the length of the list "
   ]
  },
  {
   "cell_type": "code",
   "execution_count": 1,
   "metadata": {},
   "outputs": [],
   "source": [
    "import numpy as np"
   ]
  },
  {
   "cell_type": "code",
   "execution_count": 4,
   "metadata": {
    "collapsed": true
   },
   "outputs": [
    {
     "data": {
      "text/plain": [
       "array([   1.,    2.,    3.,    4.,    5.,    6.,    7.,    8.,    9.,\n",
       "         10.,   11.,   12.,   13.,   14.,   15.,   16.,   17.,   18.,\n",
       "         19.,   20.,   21.,   22.,   23.,   24.,   25.,   26.,   27.,\n",
       "         28.,   29.,   30.,   31.,   32.,   33.,   34.,   35.,   36.,\n",
       "         37.,   38.,   39.,   40.,   41.,   42.,   43.,   44.,   45.,\n",
       "         46.,   47.,   48.,   49.,   50.,   51.,   52.,   53.,   54.,\n",
       "         55.,   56.,   57.,   58.,   59.,   60.,   61.,   62.,   63.,\n",
       "         64.,   65.,   66.,   67.,   68.,   69.,   70.,   71.,   72.,\n",
       "         73.,   74.,   75.,   76.,   77.,   78.,   79.,   80.,   81.,\n",
       "         82.,   83.,   84.,   85.,   86.,   87.,   88.,   89.,   90.,\n",
       "         91.,   92.,   93.,   94.,   95.,   96.,   97.,   98.,   99.,\n",
       "        100.,  101.,  102.,  103.,  104.,  105.,  106.,  107.,  108.,\n",
       "        109.,  110.,  111.,  112.,  113.,  114.,  115.,  116.,  117.,\n",
       "        118.,  119.,  120.,  121.,  122.,  123.,  124.,  125.,  126.,\n",
       "        127.,  128.,  129.,  130.,  131.,  132.,  133.,  134.,  135.,\n",
       "        136.,  137.,  138.,  139.,  140.,  141.,  142.,  143.,  144.,\n",
       "        145.,  146.,  147.,  148.,  149.,  150.,  151.,  152.,  153.,\n",
       "        154.,  155.,  156.,  157.,  158.,  159.,  160.,  161.,  162.,\n",
       "        163.,  164.,  165.,  166.,  167.,  168.,  169.,  170.,  171.,\n",
       "        172.,  173.,  174.,  175.,  176.,  177.,  178.,  179.,  180.,\n",
       "        181.,  182.,  183.,  184.,  185.,  186.,  187.,  188.,  189.,\n",
       "        190.,  191.,  192.,  193.,  194.,  195.,  196.,  197.,  198.,\n",
       "        199.,  200.,  201.,  202.,  203.,  204.,  205.,  206.,  207.,\n",
       "        208.,  209.,  210.,  211.,  212.,  213.,  214.,  215.,  216.,\n",
       "        217.,  218.,  219.,  220.,  221.,  222.,  223.,  224.,  225.,\n",
       "        226.,  227.,  228.,  229.,  230.,  231.,  232.,  233.,  234.,\n",
       "        235.,  236.,  237.,  238.,  239.,  240.,  241.,  242.,  243.,\n",
       "        244.,  245.,  246.,  247.,  248.,  249.,  250.,  251.,  252.,\n",
       "        253.,  254.,  255.,  256.,  257.,  258.,  259.,  260.,  261.,\n",
       "        262.,  263.,  264.,  265.,  266.,  267.,  268.,  269.,  270.,\n",
       "        271.,  272.,  273.,  274.,  275.,  276.,  277.,  278.,  279.,\n",
       "        280.,  281.,  282.,  283.,  284.,  285.,  286.,  287.,  288.,\n",
       "        289.,  290.,  291.,  292.,  293.,  294.,  295.,  296.,  297.,\n",
       "        298.,  299.,  300.,  301.,  302.,  303.,  304.,  305.,  306.,\n",
       "        307.,  308.,  309.,  310.,  311.,  312.,  313.,  314.,  315.,\n",
       "        316.,  317.,  318.,  319.,  320.,  321.,  322.,  323.,  324.,\n",
       "        325.,  326.,  327.,  328.,  329.,  330.,  331.,  332.,  333.,\n",
       "        334.,  335.,  336.,  337.,  338.,  339.,  340.,  341.,  342.,\n",
       "        343.,  344.,  345.,  346.,  347.,  348.,  349.,  350.,  351.,\n",
       "        352.,  353.,  354.,  355.,  356.,  357.,  358.,  359.,  360.,\n",
       "        361.,  362.,  363.,  364.,  365.,  366.,  367.,  368.,  369.,\n",
       "        370.,  371.,  372.,  373.,  374.,  375.,  376.,  377.,  378.,\n",
       "        379.,  380.,  381.,  382.,  383.,  384.,  385.,  386.,  387.,\n",
       "        388.,  389.,  390.,  391.,  392.,  393.,  394.,  395.,  396.,\n",
       "        397.,  398.,  399.,  400.,  401.,  402.,  403.,  404.,  405.,\n",
       "        406.,  407.,  408.,  409.,  410.,  411.,  412.,  413.,  414.,\n",
       "        415.,  416.,  417.,  418.,  419.,  420.,  421.,  422.,  423.,\n",
       "        424.,  425.,  426.,  427.,  428.,  429.,  430.,  431.,  432.,\n",
       "        433.,  434.,  435.,  436.,  437.,  438.,  439.,  440.,  441.,\n",
       "        442.,  443.,  444.,  445.,  446.,  447.,  448.,  449.,  450.,\n",
       "        451.,  452.,  453.,  454.,  455.,  456.,  457.,  458.,  459.,\n",
       "        460.,  461.,  462.,  463.,  464.,  465.,  466.,  467.,  468.,\n",
       "        469.,  470.,  471.,  472.,  473.,  474.,  475.,  476.,  477.,\n",
       "        478.,  479.,  480.,  481.,  482.,  483.,  484.,  485.,  486.,\n",
       "        487.,  488.,  489.,  490.,  491.,  492.,  493.,  494.,  495.,\n",
       "        496.,  497.,  498.,  499.,  500.,  501.,  502.,  503.,  504.,\n",
       "        505.,  506.,  507.,  508.,  509.,  510.,  511.,  512.,  513.,\n",
       "        514.,  515.,  516.,  517.,  518.,  519.,  520.,  521.,  522.,\n",
       "        523.,  524.,  525.,  526.,  527.,  528.,  529.,  530.,  531.,\n",
       "        532.,  533.,  534.,  535.,  536.,  537.,  538.,  539.,  540.,\n",
       "        541.,  542.,  543.,  544.,  545.,  546.,  547.,  548.,  549.,\n",
       "        550.,  551.,  552.,  553.,  554.,  555.,  556.,  557.,  558.,\n",
       "        559.,  560.,  561.,  562.,  563.,  564.,  565.,  566.,  567.,\n",
       "        568.,  569.,  570.,  571.,  572.,  573.,  574.,  575.,  576.,\n",
       "        577.,  578.,  579.,  580.,  581.,  582.,  583.,  584.,  585.,\n",
       "        586.,  587.,  588.,  589.,  590.,  591.,  592.,  593.,  594.,\n",
       "        595.,  596.,  597.,  598.,  599.,  600.,  601.,  602.,  603.,\n",
       "        604.,  605.,  606.,  607.,  608.,  609.,  610.,  611.,  612.,\n",
       "        613.,  614.,  615.,  616.,  617.,  618.,  619.,  620.,  621.,\n",
       "        622.,  623.,  624.,  625.,  626.,  627.,  628.,  629.,  630.,\n",
       "        631.,  632.,  633.,  634.,  635.,  636.,  637.,  638.,  639.,\n",
       "        640.,  641.,  642.,  643.,  644.,  645.,  646.,  647.,  648.,\n",
       "        649.,  650.,  651.,  652.,  653.,  654.,  655.,  656.,  657.,\n",
       "        658.,  659.,  660.,  661.,  662.,  663.,  664.,  665.,  666.,\n",
       "        667.,  668.,  669.,  670.,  671.,  672.,  673.,  674.,  675.,\n",
       "        676.,  677.,  678.,  679.,  680.,  681.,  682.,  683.,  684.,\n",
       "        685.,  686.,  687.,  688.,  689.,  690.,  691.,  692.,  693.,\n",
       "        694.,  695.,  696.,  697.,  698.,  699.,  700.,  701.,  702.,\n",
       "        703.,  704.,  705.,  706.,  707.,  708.,  709.,  710.,  711.,\n",
       "        712.,  713.,  714.,  715.,  716.,  717.,  718.,  719.,  720.,\n",
       "        721.,  722.,  723.,  724.,  725.,  726.,  727.,  728.,  729.,\n",
       "        730.,  731.,  732.,  733.,  734.,  735.,  736.,  737.,  738.,\n",
       "        739.,  740.,  741.,  742.,  743.,  744.,  745.,  746.,  747.,\n",
       "        748.,  749.,  750.,  751.,  752.,  753.,  754.,  755.,  756.,\n",
       "        757.,  758.,  759.,  760.,  761.,  762.,  763.,  764.,  765.,\n",
       "        766.,  767.,  768.,  769.,  770.,  771.,  772.,  773.,  774.,\n",
       "        775.,  776.,  777.,  778.,  779.,  780.,  781.,  782.,  783.,\n",
       "        784.,  785.,  786.,  787.,  788.,  789.,  790.,  791.,  792.,\n",
       "        793.,  794.,  795.,  796.,  797.,  798.,  799.,  800.,  801.,\n",
       "        802.,  803.,  804.,  805.,  806.,  807.,  808.,  809.,  810.,\n",
       "        811.,  812.,  813.,  814.,  815.,  816.,  817.,  818.,  819.,\n",
       "        820.,  821.,  822.,  823.,  824.,  825.,  826.,  827.,  828.,\n",
       "        829.,  830.,  831.,  832.,  833.,  834.,  835.,  836.,  837.,\n",
       "        838.,  839.,  840.,  841.,  842.,  843.,  844.,  845.,  846.,\n",
       "        847.,  848.,  849.,  850.,  851.,  852.,  853.,  854.,  855.,\n",
       "        856.,  857.,  858.,  859.,  860.,  861.,  862.,  863.,  864.,\n",
       "        865.,  866.,  867.,  868.,  869.,  870.,  871.,  872.,  873.,\n",
       "        874.,  875.,  876.,  877.,  878.,  879.,  880.,  881.,  882.,\n",
       "        883.,  884.,  885.,  886.,  887.,  888.,  889.,  890.,  891.,\n",
       "        892.,  893.,  894.,  895.,  896.,  897.,  898.,  899.,  900.,\n",
       "        901.,  902.,  903.,  904.,  905.,  906.,  907.,  908.,  909.,\n",
       "        910.,  911.,  912.,  913.,  914.,  915.,  916.,  917.,  918.,\n",
       "        919.,  920.,  921.,  922.,  923.,  924.,  925.,  926.,  927.,\n",
       "        928.,  929.,  930.,  931.,  932.,  933.,  934.,  935.,  936.,\n",
       "        937.,  938.,  939.,  940.,  941.,  942.,  943.,  944.,  945.,\n",
       "        946.,  947.,  948.,  949.,  950.,  951.,  952.,  953.,  954.,\n",
       "        955.,  956.,  957.,  958.,  959.,  960.,  961.,  962.,  963.,\n",
       "        964.,  965.,  966.,  967.,  968.,  969.,  970.,  971.,  972.,\n",
       "        973.,  974.,  975.,  976.,  977.,  978.,  979.,  980.,  981.,\n",
       "        982.,  983.,  984.,  985.,  986.,  987.,  988.,  989.,  990.,\n",
       "        991.,  992.,  993.,  994.,  995.,  996.,  997.,  998.,  999.,\n",
       "       1000.])"
      ]
     },
     "execution_count": 4,
     "metadata": {},
     "output_type": "execute_result"
    }
   ],
   "source": [
    "# Create a list (data) as data = [1,2,3..,1000]\n",
    "data = np.linspace(1,1000,num = 1000)\n",
    "\n"
   ]
  },
  {
   "cell_type": "markdown",
   "metadata": {},
   "source": [
    "### Create RDD from Python collections"
   ]
  },
  {
   "cell_type": "markdown",
   "metadata": {},
   "source": [
    "In the spark computation model, datasets are treated as list of entries. Such lists are split into a number of different logical partitions that may be stored on different cores on the same computer or across the cluster. Each split partition holds a unique subset of original data. RDDs and are used to split, transform and combine the data during processing. \n",
    "\n",
    "Unlike Hadoop which uses physical disks to process data and store intermediate results, __Spark performs in-memory processing__ which allows high speed processing, that can be performed at a much lower computational cost. Following figure shows an overview of Spark processing model. For a list like the one we created above, all entries are distributed over different workers as shown:\n",
    "\n",
    "![](partitions.png)"
   ]
  },
  {
   "cell_type": "markdown",
   "metadata": {},
   "source": [
    "RDDs can be created in two different ways:\n",
    "\n",
    "1. __Referencing__ an external data set in an external storage system, such as a shared file system, HDFS, HBase, or any data source offering a Hadoop Input Format.\n",
    "\n",
    "2. __Parallelizing__ a collection of objects (a list or a set) in the driver program.\n",
    "\n",
    "[Visit the documentation](https://spark.apache.org/docs/2.1.1/programming-guide.html) to read more on these methods. For this lab, we shall use the second approach with the collection we created earlier. "
   ]
  },
  {
   "cell_type": "markdown",
   "metadata": {},
   "source": [
    "### `SparkContext.parallelize()` for creating RDDs"
   ]
  },
  {
   "cell_type": "markdown",
   "metadata": {},
   "source": [
    "In order to create RDDs in Spark, we will use `sc.parallelize()` method. This tells spark to create a new RDD based on the data that is passed in. A second argument tells Spark to set a number of paritions for this data as highlighted in the figure above. The elements of the collection are copied to form a distributed data set that can be operated on in parallel.\n",
    "\n",
    "__Refer to the documentation and use this method to create an RDD (call it `intRDD`) with 5 partitions for the list of integers in `data`, calculated earlier. Remember to intialize a SparkContext first.__ "
   ]
  },
  {
   "cell_type": "code",
   "execution_count": 4,
   "metadata": {},
   "outputs": [],
   "source": [
    "# Import spark and initiate a local SparkContext (execute only once)\n",
    "\n",
    "# Code here \n"
   ]
  },
  {
   "cell_type": "code",
   "execution_count": 5,
   "metadata": {},
   "outputs": [],
   "source": [
    "# Create an RDD with list created earlier, splitting it into 5 partitions\n",
    "\n",
    "# Code here "
   ]
  },
  {
   "cell_type": "markdown",
   "metadata": {},
   "source": [
    "Remember due to lazy evaluation used by Spark, no Spark computation (a.k.a a Spark job) is performed at this state. We can see more options for creating new RDDs by studying built in help on `sc.parallelize()`."
   ]
  },
  {
   "cell_type": "code",
   "execution_count": 6,
   "metadata": {},
   "outputs": [
    {
     "name": "stdout",
     "output_type": "stream",
     "text": [
      "Help on method parallelize in module pyspark.context:\n",
      "\n",
      "parallelize(c, numSlices=None) method of pyspark.context.SparkContext instance\n",
      "    Distribute a local Python collection to form an RDD. Using xrange\n",
      "    is recommended if the input represents a range for performance.\n",
      "    \n",
      "    >>> sc.parallelize([0, 2, 3, 4, 6], 5).glom().collect()\n",
      "    [[0], [2], [3], [4], [6]]\n",
      "    >>> sc.parallelize(xrange(0, 6, 2), 5).glom().collect()\n",
      "    [[], [0], [], [2], [4]]\n",
      "\n"
     ]
    }
   ],
   "source": [
    "# Get help on sc.parallelize() method\n",
    "\n",
    "\n",
    "# Code here \n",
    "\n"
   ]
  },
  {
   "cell_type": "markdown",
   "metadata": {},
   "source": [
    "Note: `glom()` method allows treating a partition as a multidimensional array rather as single row at time allowing to speed up some operations with some increased memory usage. More information on `glom()` can be found [here](http://blog.madhukaraphatak.com/glom-in-spark/). We shall also see how `collect()` action works later in this lab. \n",
    "\n",
    "### Types of RDDs\n",
    "\n",
    "There are many different types of RDDs in Spark. The base class for RDDs is `pyspark.RDD`. Since the other RDD types inherit from pyspark.RDD they have the same APIs and are functionally identical. [Visit this document](https://jaceklaskowski.gitbooks.io/mastering-apache-spark/spark-rdd.html) to see a list of Common RDD types.\n",
    "\n",
    "\n",
    "\n",
    "Initializing `sc.parallelize()` with a list generates a `pyspark.rdd.PipelinedRDD`. Let's check the type of our RDD to confirm this.   "
   ]
  },
  {
   "cell_type": "code",
   "execution_count": 7,
   "metadata": {},
   "outputs": [
    {
     "data": {
      "text/plain": [
       "pyspark.rdd.PipelinedRDD"
      ]
     },
     "execution_count": 7,
     "metadata": {},
     "output_type": "execute_result"
    }
   ],
   "source": [
    "# Check the type of RDD created earlier, i.e. intRDD\n",
    "\n",
    "# Code here \n",
    "\n"
   ]
  },
  {
   "cell_type": "markdown",
   "metadata": {},
   "source": [
    "### RDD `id` and `setName()`\n",
    "Each RDD created this way has a unique ID which is used by the Spark system to refer to the RDD. this can be viewed by using `RDD.id()` function. Let's check the id of RDD we have just created. \n",
    "\n",
    "*Note that this value may be different depending upon the sequence of RDD creation and code execution.*"
   ]
  },
  {
   "cell_type": "code",
   "execution_count": 8,
   "metadata": {},
   "outputs": [
    {
     "name": "stdout",
     "output_type": "stream",
     "text": [
      "intRDD id: 1\n"
     ]
    }
   ],
   "source": [
    "# Each RDD gets a unique ID\n",
    "\n",
    "# Code here \n",
    "\n",
    "# intRDD id: 3"
   ]
  },
  {
   "cell_type": "markdown",
   "metadata": {},
   "source": [
    "Spark also allows naming of RDDs after they've been created using the `setname()` method. Let's use this method to set the name of our RDD as \"My First RDD\"\""
   ]
  },
  {
   "cell_type": "code",
   "execution_count": 9,
   "metadata": {},
   "outputs": [
    {
     "data": {
      "text/plain": [
       "My first RDD PythonRDD[1] at RDD at PythonRDD.scala:53"
      ]
     },
     "execution_count": 9,
     "metadata": {},
     "output_type": "execute_result"
    }
   ],
   "source": [
    "# We can name each newly created RDD using the setName() method\n",
    "\n",
    "# Code here \n",
    "\n",
    "# My first RDD PythonRDD[3] at RDD at PythonRDD.scala:49"
   ]
  },
  {
   "cell_type": "markdown",
   "metadata": {},
   "source": [
    "### RDD Lineage\n",
    "RDD Lineage (aka RDD operator graph or RDD dependency graph) is a graph of all the parent RDDs of a RDD. It is built as a result of applying transformations to the RDD and creates a logical execution plan. \n",
    "\n",
    "<img src=\"lineage.JPG\" width=400>\n",
    "\n",
    "\n",
    "We can view the lineage (set of transformations) using the `RDD.toDebugString()` method. \n",
    "\n",
    "Let's check the lineage of our RDD using this method. "
   ]
  },
  {
   "cell_type": "code",
   "execution_count": 15,
   "metadata": {},
   "outputs": [
    {
     "data": {
      "text/plain": [
       "b'(4) PythonRDD[2] at RDD at PythonRDD.scala:49 []\\n |  ParallelCollectionRDD[1] at parallelize at PythonRDD.scala:184 []'"
      ]
     },
     "execution_count": 15,
     "metadata": {},
     "output_type": "execute_result"
    }
   ],
   "source": [
    "# Get RDD Dependancy Graph\n",
    "\n",
    "\n",
    "# Code here \n",
    "\n",
    "\n",
    "# b'(4) PythonRDD[2] at RDD at PythonRDD.scala:49 []\\n |  \n",
    "# ParallelCollectionRDD[1] at parallelize at PythonRDD.scala:184 []'"
   ]
  },
  {
   "cell_type": "markdown",
   "metadata": {},
   "source": [
    "You are encouraged to call this property at different stages of data processing to view the dependancy between RDDs. We will see this in effect in our upcoming labs with transformations. \n",
    "\n",
    "In order to check the methods and transformations that can be applied to RDDs, we can simply use the `help()` function."
   ]
  },
  {
   "cell_type": "code",
   "execution_count": 1,
   "metadata": {},
   "outputs": [],
   "source": [
    "# Code here "
   ]
  },
  {
   "cell_type": "markdown",
   "metadata": {},
   "source": [
    "We shall cover some of these methods and transformations in upcoming lessons and labs. As a quick example, Let's look at the `getNumPartitions()` function which resuts the total partitions of an RDD.\n",
    "\n",
    "    getNumPartitions(self)\n",
    "           Returns the number of partitions in RDD\n",
    "\n",
    "__Get number of partitions of the `intRDD`__\n"
   ]
  },
  {
   "cell_type": "code",
   "execution_count": 11,
   "metadata": {},
   "outputs": [
    {
     "data": {
      "text/plain": [
       "5"
      ]
     },
     "execution_count": 11,
     "metadata": {},
     "output_type": "execute_result"
    }
   ],
   "source": [
    "# Get number of partitions\n",
    "\n",
    "# Code here "
   ]
  },
  {
   "cell_type": "markdown",
   "metadata": {},
   "source": [
    "## Types of RDD operations\n",
    "\n",
    "Earlier we mentioned that RDD operations can be distonguished as Actions of Transformations. Let's quickly look what these entail.\n",
    "\n",
    "### Transformations\n",
    "\n",
    "Transformations create a new data set from an existing one by passing each dataset element through a function and returns a new RDD representing the results. In short, creating an RDD from an existing RDD is ‘transformation’.\n",
    "All transformations in Spark are lazy. They do not compute their results right away. Instead, they just remember the transformations applied to some base data set (e.g. a file). The transformations are only computed when an action requires a result that needs to be returned to the driver program.\n",
    "A transformationon a RDD that returns another RDD, like map, flatMap, filter, reduceByKey, join, cogroup, etc."
   ]
  },
  {
   "cell_type": "markdown",
   "metadata": {},
   "source": [
    "### Actions\n",
    "Actions return final results of RDD computations. Actions trigger execution using lineage graph to load the data into original RDD and carry out all intermediate transformations and return the final results to the Driver program or writes it ou\n",
    "t to the file system. An action returns a value (to a Spark driver - the user program).\n",
    "\n",
    "Here are some of key transformations and actions that we will explore later.\n",
    "<img src=\"rdd2.png\" width=400>\n",
    "          "
   ]
  },
  {
   "cell_type": "markdown",
   "metadata": {},
   "source": [
    "In the following labs. we shall practice the key transformations and actions in order to split, process and analyze datasetes as RDDs. "
   ]
  },
  {
   "cell_type": "markdown",
   "metadata": {},
   "source": [
    "## Additional Reading \n",
    "\n",
    "- [RDDs in Apache Spark](https://data-flair.training/blogs/create-rdds-in-apache-spark/)\n",
    "- [Programming with RDDs](https://runawayhorse001.github.io/LearningApacheSpark/rdd.html)"
   ]
  },
  {
   "cell_type": "markdown",
   "metadata": {},
   "source": [
    "### SUMMARY\n",
    "\n",
    "In this lesson we went through a brief introduction to RDD creation from a Python collection, setting number of logical partitions for an RDD and extracting lineage and of an RDD in a spark application. We also looked at checking an RDD's id used by spark and setting names for RDDs as an indication of content. Following labs will build upon this knowledge and we shall see how transformations and actions can be applied to RDDs in a distributed setup. \n"
   ]
  }
 ],
 "metadata": {
  "kernelspec": {
   "display_name": "Python 3",
   "language": "python",
   "name": "python3"
  },
  "language_info": {
   "codemirror_mode": {
    "name": "ipython",
    "version": 3
   },
   "file_extension": ".py",
   "mimetype": "text/x-python",
   "name": "python",
   "nbconvert_exporter": "python",
   "pygments_lexer": "ipython3",
   "version": "3.6.6"
  }
 },
 "nbformat": 4,
 "nbformat_minor": 2
}
